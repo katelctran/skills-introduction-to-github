{
 "cells": [
  {
   "cell_type": "code",
   "execution_count": 135,
   "id": "166ccebc-2a5e-4633-9b21-ec0a06ea5a19",
   "metadata": {},
   "outputs": [
    {
     "name": "stdout",
     "output_type": "stream",
     "text": [
      "Database created and connected!\n"
     ]
    }
   ],
   "source": [
    "import sqlite3\n",
    "# Create or connect to an SQLite database\n",
    "connection = sqlite3.connect('student_grades.db')\n",
    "# Check if the connection was successful\n",
    "print(\"Database created and connected!\")"
   ]
  },
  {
   "cell_type": "code",
   "execution_count": 137,
   "id": "ac19e47a-26a0-4822-9642-969b89be60d2",
   "metadata": {},
   "outputs": [
    {
     "name": "stdout",
     "output_type": "stream",
     "text": [
      "Cursor created!\n"
     ]
    }
   ],
   "source": [
    "# Create a cursor object\n",
    "cursor = connection.cursor()\n",
    "\n",
    "# Explanation\n",
    "print(\"Cursor created!\")"
   ]
  },
  {
   "cell_type": "code",
   "execution_count": 141,
   "id": "8d6624a4-6977-4bb1-a5a9-0cdef2543afd",
   "metadata": {},
   "outputs": [
    {
     "name": "stdout",
     "output_type": "stream",
     "text": [
      "Students table created!\n"
     ]
    }
   ],
   "source": [
    "# Create the students table\n",
    "cursor.execute('''\n",
    "CREATE TABLE IF NOT EXISTS students (\n",
    "    student_id INTEGER PRIMARY KEY AUTOINCREMENT,\n",
    "    first_name TEXT,\n",
    "    last_name TEXT\n",
    ")\n",
    "''')\n",
    "\n",
    "print(\"Students table created!\")"
   ]
  },
  {
   "cell_type": "code",
   "execution_count": 143,
   "id": "023ea986-be2b-4dd7-ab0d-5cac1f9f10c1",
   "metadata": {},
   "outputs": [
    {
     "name": "stdout",
     "output_type": "stream",
     "text": [
      "Cursor closed!\n"
     ]
    }
   ],
   "source": [
    "# Close the cursor\n",
    "cursor.close()\n",
    "\n",
    "# Explanation\n",
    "print(\"Cursor closed!\")"
   ]
  },
  {
   "cell_type": "code",
   "execution_count": 145,
   "id": "15c76e7c-bb6d-4609-8817-7c63ec7fca03",
   "metadata": {},
   "outputs": [
    {
     "name": "stdout",
     "output_type": "stream",
     "text": [
      "Cursor created!\n",
      "Students table created!\n"
     ]
    }
   ],
   "source": [
    "# Create the students table\n",
    "# Create a cursor object\n",
    "cursor = connection.cursor()\n",
    "\n",
    "# Explanation\n",
    "print(\"Cursor created!\")\n",
    "cursor.execute('''\n",
    "CREATE TABLE IF NOT EXISTS students (\n",
    "    student_id INTEGER PRIMARY KEY AUTOINCREMENT,\n",
    "    first_name TEXT NOT NULL,\n",
    "    last_name TEXT NOT NULL\n",
    ")\n",
    "''')\n",
    "\n",
    "print(\"Students table created!\")"
   ]
  },
  {
   "cell_type": "code",
   "execution_count": 147,
   "id": "60894df5-9335-49f8-9c82-5b0f2985a85c",
   "metadata": {},
   "outputs": [
    {
     "name": "stdout",
     "output_type": "stream",
     "text": [
      "Grades table created!\n"
     ]
    }
   ],
   "source": [
    "# Create the grades table\n",
    "cursor.execute('''\n",
    "CREATE TABLE IF NOT EXISTS grades (\n",
    "    grade_id INTEGER PRIMARY KEY AUTOINCREMENT,\n",
    "    student_id INTEGER,\n",
    "    subject TEXT,\n",
    "    grade INTEGER,\n",
    "    FOREIGN KEY (student_id) REFERENCES students(student_id)\n",
    ")\n",
    "''')\n",
    "\n",
    "print(\"Grades table created!\")"
   ]
  },
  {
   "cell_type": "code",
   "execution_count": 149,
   "id": "25294694-35a9-4b25-8894-d5ee74203a11",
   "metadata": {},
   "outputs": [
    {
     "name": "stdout",
     "output_type": "stream",
     "text": [
      "Data inserted into the students table!\n"
     ]
    }
   ],
   "source": [
    "# Sample data to insert into the students table\n",
    "students_data = [\n",
    "    ('Alice', 'Johnson'),\n",
    "    ('Bob', 'Smith'),\n",
    "    ('Carol', 'White'),\n",
    "    ('David', 'Brown'),\n",
    "    ('Eve', 'Davis')\n",
    "]\n",
    "\n",
    "# Insert data into the table\n",
    "cursor.executemany('''\n",
    "INSERT INTO students (first_name, last_name) VALUES (?, ?)\n",
    "''', students_data)\n",
    "\n",
    "# Commit the transaction\n",
    "connection.commit()\n",
    "\n",
    "print(\"Data inserted into the students table!\")"
   ]
  },
  {
   "cell_type": "code",
   "execution_count": 25,
   "id": "340e147b-868d-48c7-b915-145156749f44",
   "metadata": {},
   "outputs": [
    {
     "name": "stdout",
     "output_type": "stream",
     "text": [
      "Data inserted into the grades table!\n"
     ]
    }
   ],
   "source": [
    "# Sample data for the grades table\n",
    "grades_data = [\n",
    "    (1, 'Math', 95),\n",
    "    (1, 'English', 88),\n",
    "    (1, 'History', 90),\n",
    "    (2, 'Math', 82),\n",
    "    (2, 'English', 76),\n",
    "    (2, 'History', 85),\n",
    "    (3, 'Math', 80),\n",
    "    (3, 'English', 98),\n",
    "    (3, 'History', 91),\n",
    "    (4, 'Math', 100),\n",
    "    (4, 'English', 73),\n",
    "    (4, 'History', 84),\n",
    "    (5, 'Math', 79),\n",
    "    (5, 'English', 86),\n",
    "    (5, 'History', 97)\n",
    "]\n",
    "\n",
    "# Insert data into the flavor_details table\n",
    "cursor.executemany('''\n",
    "INSERT INTO grades (student_id, subject, grade) VALUES (?, ?, ?)\n",
    "''', grades_data)\n",
    "\n",
    "# Commit the transaction\n",
    "connection.commit()\n",
    "\n",
    "print(\"Data inserted into the grades table!\")"
   ]
  },
  {
   "cell_type": "code",
   "execution_count": 151,
   "id": "3726be7e-274c-4064-b2c3-37e3e8deff83",
   "metadata": {},
   "outputs": [
    {
     "name": "stdout",
     "output_type": "stream",
     "text": [
      "Joined students and grades details:\n",
      "('Alice', 'Johnson', 'Math', 95)\n",
      "('Alice', 'Johnson', 'English', 88)\n",
      "('Alice', 'Johnson', 'History', 90)\n",
      "('Bob', 'Smith', 'Math', 82)\n",
      "('Bob', 'Smith', 'English', 76)\n",
      "('Bob', 'Smith', 'History', 85)\n",
      "('Carol', 'White', 'Math', 80)\n",
      "('Carol', 'White', 'English', 98)\n",
      "('Carol', 'White', 'History', 91)\n",
      "('David', 'Brown', 'Math', 100)\n",
      "('David', 'Brown', 'English', 73)\n",
      "('David', 'Brown', 'History', 84)\n",
      "('Eve', 'Davis', 'Math', 79)\n",
      "('Eve', 'Davis', 'English', 86)\n",
      "('Eve', 'Davis', 'History', 97)\n"
     ]
    }
   ],
   "source": [
    "#1 Retrieve all students' names and their grades\n",
    "cursor.execute('''\n",
    "SELECT students.first_name, students.last_name, grades.subject, grades.grade\n",
    "FROM students\n",
    "JOIN grades ON students.student_id = grades.student_id\n",
    "''')\n",
    "\n",
    "# Fetch and display the results\n",
    "joined_data = cursor.fetchall()\n",
    "\n",
    "print(\"Joined students and grades details:\")\n",
    "for row in joined_data:\n",
    "    print(row)\n",
    "    "
   ]
  },
  {
   "cell_type": "code",
   "execution_count": 153,
   "id": "6109e290-bdde-4b4a-b64e-eaa3ee8fded2",
   "metadata": {},
   "outputs": [
    {
     "name": "stdout",
     "output_type": "stream",
     "text": [
      "Average grade of each student\n",
      "('Alice', 'Johnson', 91.0)\n",
      "('Bob', 'Smith', 81.0)\n",
      "('Carol', 'White', 89.66666666666667)\n",
      "('David', 'Brown', 85.66666666666667)\n",
      "('Eve', 'Davis', 87.33333333333333)\n"
     ]
    }
   ],
   "source": [
    "#2 Find the average grade for each student\n",
    "cursor.execute('''\n",
    "SELECT students.first_name, students.last_name, AVG(grades.grade) AS average_grade\n",
    "FROM students\n",
    "JOIN grades ON students.student_id = grades.student_id\n",
    "GROUP BY students.student_id\n",
    "''')\n",
    "\n",
    "# Fetch and display the results\n",
    "joined_data = cursor.fetchall()\n",
    "\n",
    "print(\"Average grade of each student\")\n",
    "for row in joined_data:\n",
    "    print(row)"
   ]
  },
  {
   "cell_type": "code",
   "execution_count": 155,
   "id": "4b0d50ed-9321-4871-8051-c68ef17d5348",
   "metadata": {},
   "outputs": [
    {
     "name": "stdout",
     "output_type": "stream",
     "text": [
      "Student with highest average grade: Alice Johnson\n"
     ]
    }
   ],
   "source": [
    "#3 Find the student with the highest average grade\n",
    "cursor.execute('''\n",
    "SELECT students.first_name, students.last_name, AVG(grades.grade) AS average_grade\n",
    "FROM students\n",
    "JOIN grades ON students.student_id = grades.student_id\n",
    "GROUP BY students.student_id\n",
    "ORDER BY average_grade DESC\n",
    "LIMIT 1\n",
    "''')\n",
    "\n",
    "# Fetch and display the results\n",
    "highest_average_grade = cursor.fetchone()\n",
    "\n",
    "# Display the result\n",
    "print(\"Student with highest average grade: \" + highest_average_grade[0]+ \" \" + highest_average_grade[1])"
   ]
  },
  {
   "cell_type": "code",
   "execution_count": 157,
   "id": "443e4632-3f21-4c12-aa89-b44668312587",
   "metadata": {},
   "outputs": [
    {
     "name": "stdout",
     "output_type": "stream",
     "text": [
      "Average math grade: 87.2\n"
     ]
    }
   ],
   "source": [
    "#4 Find the average grade for the Math subject\n",
    "cursor.execute('''\n",
    "SELECT AVG(grade) AS average_math_grade\n",
    "FROM grades\n",
    "WHERE subject = 'Math'\n",
    "''')\n",
    "\n",
    "average_math_grade = cursor.fetchone()[0]\n",
    "\n",
    "# Display the result\n",
    "print(f\"Average math grade: {average_math_grade}\")"
   ]
  },
  {
   "cell_type": "code",
   "execution_count": 159,
   "id": "406b7986-f1c4-4320-8b05-7312101e3f17",
   "metadata": {},
   "outputs": [
    {
     "name": "stdout",
     "output_type": "stream",
     "text": [
      "Alice Johnson\n",
      "Carol White\n",
      "Carol White\n",
      "David Brown\n",
      "Eve Davis\n"
     ]
    }
   ],
   "source": [
    "#5 List all students who scored above 90 in any subject\n",
    "cursor.execute('''\n",
    "SELECT DISTINCT students.first_name, students.last_name, grades.subject, grades.grade\n",
    "FROM students\n",
    "JOIN grades ON students.student_id = grades.student_id\n",
    "WHERE grades.grade > 90\n",
    "''')\n",
    "\n",
    "list_of_students = cursor.fetchall()\n",
    "\n",
    "# Display the results\n",
    "for row in list_of_students:\n",
    "    first_name, last_name, subject, grade = row\n",
    "    print(f\"{first_name} {last_name}\")"
   ]
  },
  {
   "cell_type": "code",
   "execution_count": 161,
   "id": "9a137a21-df0a-49ba-955f-1d38edd14b4c",
   "metadata": {},
   "outputs": [
    {
     "data": {
      "text/html": [
       "<div>\n",
       "<style scoped>\n",
       "    .dataframe tbody tr th:only-of-type {\n",
       "        vertical-align: middle;\n",
       "    }\n",
       "\n",
       "    .dataframe tbody tr th {\n",
       "        vertical-align: top;\n",
       "    }\n",
       "\n",
       "    .dataframe thead th {\n",
       "        text-align: right;\n",
       "    }\n",
       "</style>\n",
       "<table border=\"1\" class=\"dataframe\">\n",
       "  <thead>\n",
       "    <tr style=\"text-align: right;\">\n",
       "      <th></th>\n",
       "      <th>student_id</th>\n",
       "      <th>first_name</th>\n",
       "      <th>last_name</th>\n",
       "    </tr>\n",
       "  </thead>\n",
       "  <tbody>\n",
       "    <tr>\n",
       "      <th>0</th>\n",
       "      <td>1</td>\n",
       "      <td>Alice</td>\n",
       "      <td>Johnson</td>\n",
       "    </tr>\n",
       "    <tr>\n",
       "      <th>1</th>\n",
       "      <td>2</td>\n",
       "      <td>Bob</td>\n",
       "      <td>Smith</td>\n",
       "    </tr>\n",
       "    <tr>\n",
       "      <th>2</th>\n",
       "      <td>3</td>\n",
       "      <td>Carol</td>\n",
       "      <td>White</td>\n",
       "    </tr>\n",
       "    <tr>\n",
       "      <th>3</th>\n",
       "      <td>4</td>\n",
       "      <td>David</td>\n",
       "      <td>Brown</td>\n",
       "    </tr>\n",
       "    <tr>\n",
       "      <th>4</th>\n",
       "      <td>5</td>\n",
       "      <td>Eve</td>\n",
       "      <td>Davis</td>\n",
       "    </tr>\n",
       "  </tbody>\n",
       "</table>\n",
       "</div>"
      ],
      "text/plain": [
       "   student_id first_name last_name\n",
       "0           1      Alice   Johnson\n",
       "1           2        Bob     Smith\n",
       "2           3      Carol     White\n",
       "3           4      David     Brown\n",
       "4           5        Eve     Davis"
      ]
     },
     "execution_count": 161,
     "metadata": {},
     "output_type": "execute_result"
    }
   ],
   "source": [
    "import pandas as pd\n",
    "\n",
    "# Query the students data into a DataFrame\n",
    "df = pd.read_sql_query('SELECT * FROM students', connection)\n",
    "\n",
    "# Display the DataFrame\n",
    "df.head()"
   ]
  },
  {
   "cell_type": "code",
   "execution_count": 163,
   "id": "1d39867a-8121-4281-b2ff-a2d92f76f078",
   "metadata": {},
   "outputs": [
    {
     "data": {
      "text/html": [
       "<div>\n",
       "<style scoped>\n",
       "    .dataframe tbody tr th:only-of-type {\n",
       "        vertical-align: middle;\n",
       "    }\n",
       "\n",
       "    .dataframe tbody tr th {\n",
       "        vertical-align: top;\n",
       "    }\n",
       "\n",
       "    .dataframe thead th {\n",
       "        text-align: right;\n",
       "    }\n",
       "</style>\n",
       "<table border=\"1\" class=\"dataframe\">\n",
       "  <thead>\n",
       "    <tr style=\"text-align: right;\">\n",
       "      <th></th>\n",
       "      <th>grade_id</th>\n",
       "      <th>student_id</th>\n",
       "      <th>subject</th>\n",
       "      <th>grade</th>\n",
       "    </tr>\n",
       "  </thead>\n",
       "  <tbody>\n",
       "    <tr>\n",
       "      <th>0</th>\n",
       "      <td>1</td>\n",
       "      <td>1</td>\n",
       "      <td>Math</td>\n",
       "      <td>95</td>\n",
       "    </tr>\n",
       "    <tr>\n",
       "      <th>1</th>\n",
       "      <td>2</td>\n",
       "      <td>1</td>\n",
       "      <td>English</td>\n",
       "      <td>88</td>\n",
       "    </tr>\n",
       "    <tr>\n",
       "      <th>2</th>\n",
       "      <td>3</td>\n",
       "      <td>1</td>\n",
       "      <td>History</td>\n",
       "      <td>90</td>\n",
       "    </tr>\n",
       "    <tr>\n",
       "      <th>3</th>\n",
       "      <td>4</td>\n",
       "      <td>2</td>\n",
       "      <td>Math</td>\n",
       "      <td>82</td>\n",
       "    </tr>\n",
       "    <tr>\n",
       "      <th>4</th>\n",
       "      <td>5</td>\n",
       "      <td>2</td>\n",
       "      <td>English</td>\n",
       "      <td>76</td>\n",
       "    </tr>\n",
       "  </tbody>\n",
       "</table>\n",
       "</div>"
      ],
      "text/plain": [
       "   grade_id  student_id  subject  grade\n",
       "0         1           1     Math     95\n",
       "1         2           1  English     88\n",
       "2         3           1  History     90\n",
       "3         4           2     Math     82\n",
       "4         5           2  English     76"
      ]
     },
     "execution_count": 163,
     "metadata": {},
     "output_type": "execute_result"
    }
   ],
   "source": [
    "# Query the grades data into a DataFrame\n",
    "df = pd.read_sql_query('SELECT * FROM grades', connection)\n",
    "\n",
    "# Display the DataFrame\n",
    "df.head()"
   ]
  },
  {
   "cell_type": "code",
   "execution_count": 167,
   "id": "b2575f3a-6af6-4848-b0ec-1ee352d5aad7",
   "metadata": {},
   "outputs": [
    {
     "data": {
      "text/html": [
       "<div>\n",
       "<style scoped>\n",
       "    .dataframe tbody tr th:only-of-type {\n",
       "        vertical-align: middle;\n",
       "    }\n",
       "\n",
       "    .dataframe tbody tr th {\n",
       "        vertical-align: top;\n",
       "    }\n",
       "\n",
       "    .dataframe thead th {\n",
       "        text-align: right;\n",
       "    }\n",
       "</style>\n",
       "<table border=\"1\" class=\"dataframe\">\n",
       "  <thead>\n",
       "    <tr style=\"text-align: right;\">\n",
       "      <th></th>\n",
       "      <th>first_name</th>\n",
       "      <th>last_name</th>\n",
       "      <th>subject</th>\n",
       "      <th>grade</th>\n",
       "    </tr>\n",
       "  </thead>\n",
       "  <tbody>\n",
       "    <tr>\n",
       "      <th>0</th>\n",
       "      <td>Alice</td>\n",
       "      <td>Johnson</td>\n",
       "      <td>Math</td>\n",
       "      <td>95</td>\n",
       "    </tr>\n",
       "    <tr>\n",
       "      <th>1</th>\n",
       "      <td>Alice</td>\n",
       "      <td>Johnson</td>\n",
       "      <td>English</td>\n",
       "      <td>88</td>\n",
       "    </tr>\n",
       "    <tr>\n",
       "      <th>2</th>\n",
       "      <td>Alice</td>\n",
       "      <td>Johnson</td>\n",
       "      <td>History</td>\n",
       "      <td>90</td>\n",
       "    </tr>\n",
       "    <tr>\n",
       "      <th>3</th>\n",
       "      <td>Bob</td>\n",
       "      <td>Smith</td>\n",
       "      <td>Math</td>\n",
       "      <td>82</td>\n",
       "    </tr>\n",
       "    <tr>\n",
       "      <th>4</th>\n",
       "      <td>Bob</td>\n",
       "      <td>Smith</td>\n",
       "      <td>English</td>\n",
       "      <td>76</td>\n",
       "    </tr>\n",
       "  </tbody>\n",
       "</table>\n",
       "</div>"
      ],
      "text/plain": [
       "  first_name last_name  subject  grade\n",
       "0      Alice   Johnson     Math     95\n",
       "1      Alice   Johnson  English     88\n",
       "2      Alice   Johnson  History     90\n",
       "3        Bob     Smith     Math     82\n",
       "4        Bob     Smith  English     76"
      ]
     },
     "execution_count": 167,
     "metadata": {},
     "output_type": "execute_result"
    }
   ],
   "source": [
    "# Join the students and grades data into a DataFrame\n",
    "df = pd.read_sql_query('SELECT students.first_name, students.last_name, grades.subject, grades.grade FROM students JOIN grades ON students.student_id = grades.student_id', connection)\n",
    "# Display the DataFrame\n",
    "df.head()"
   ]
  },
  {
   "cell_type": "code",
   "execution_count": 169,
   "id": "1b553737-eed1-4fe0-b006-a77c0b924435",
   "metadata": {},
   "outputs": [
    {
     "data": {
      "image/png": "[encoded data removed]",
      "text/plain": [
       "<Figure size 1200x600 with 1 Axes>"
      ]
     },
     "metadata": {},
     "output_type": "display_data"
    }
   ],
   "source": [
    "import matplotlib.pyplot as plt\n",
    "\n",
    "cursor.execute('''\n",
    "    SELECT students.first_name, students.last_name, AVG(grades.grade) AS average_grade\n",
    "    FROM students\n",
    "    JOIN grades ON students.student_id = grades.student_id\n",
    "    GROUP BY students.student_id\n",
    "''')\n",
    "\n",
    "students_average = cursor.fetchall()\n",
    "df_students_average = pd.DataFrame(students_average, columns=['first_name', 'last_name', 'average_grade'])\n",
    "\n",
    "# Plot average grades for each student\n",
    "plt.figure(figsize=(12, 6))\n",
    "plt.bar(df_students_average['first_name'] + ' ' + df_students_average['last_name'], df_students_average['average_grade'], color='skyblue')\n",
    "plt.xlabel('Student Name')\n",
    "plt.ylabel('Average Grade')\n",
    "plt.title('Average Grades for Each Student')\n",
    "plt.xticks(rotation=45, ha='right')\n",
    "plt.tight_layout()\n",
    "plt.show()"
   ]
  },
  {
   "cell_type": "code",
   "execution_count": 171,
   "id": "e8997a7c-a34a-4ce1-a263-258327b04774",
   "metadata": {},
   "outputs": [
    {
     "data": {
      "image/png": "[encoded data removed]",
      "text/plain": [
       "<Figure size 1000x600 with 1 Axes>"
      ]
     },
     "metadata": {},
     "output_type": "display_data"
    }
   ],
   "source": [
    "cursor.execute('''\n",
    "    SELECT subject, AVG(grade) AS average_grade\n",
    "    FROM grades\n",
    "    GROUP BY subject\n",
    "''')\n",
    "\n",
    "subject_average = cursor.fetchall()\n",
    "\n",
    "subjects = [row[0] for row in subject_average]\n",
    "df_subject_average = [row[1] for row in subject_average]\n",
    "\n",
    "# Plot average grades for each subject\n",
    "plt.figure(figsize=(10, 6))\n",
    "plt.bar(subjects, df_subject_average, color='lightcoral')\n",
    "plt.xlabel('Subject')\n",
    "plt.ylabel('Average Grade')\n",
    "plt.title('Average Grade for Each Subject')\n",
    "plt.xticks(rotation=45)\n",
    "plt.tight_layout()\n",
    "plt.show()"
   ]
  },
  {
   "cell_type": "code",
   "execution_count": null,
   "id": "5f89ca8d-08f6-4b98-8689-cddcd01f3afb",
   "metadata": {},
   "outputs": [],
   "source": []
  }
 ],
 "metadata": {
  "kernelspec": {
   "display_name": "Python 3 (ipykernel)",
   "language": "python",
   "name": "python3"
  },
  "language_info": {
   "codemirror_mode": {
    "name": "ipython",
    "version": 3
   },
   "file_extension": ".py",
   "mimetype": "text/x-python",
   "name": "python",
   "nbconvert_exporter": "python",
   "pygments_lexer": "ipython3",
   "version": "3.12.4"
  }
 },
 "nbformat": 4,
 "nbformat_minor": 5
}
